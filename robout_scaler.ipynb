{
 "cells": [
  {
   "cell_type": "markdown",
   "metadata": {},
   "source": [
    "# Generation of files for unit tests and table samples for documentation"
   ]
  },
  {
   "cell_type": "code",
   "execution_count": 11,
   "metadata": {},
   "outputs": [],
   "source": [
    "import numpy as np\n",
    "import pandas as pd\n",
    "import seaborn as sns\n",
    "import matplotlib.pyplot as plt\n",
    "import robout as rbt\n",
    "from resources.insertMdTable import insertMdTable\n",
    "\n",
    "fin = open(\".\\\\resources\\\\README.tpl.md\", \"rt\")\n",
    "mdtext = fin.read()"
   ]
  },
  {
   "cell_type": "code",
   "execution_count": 12,
   "metadata": {},
   "outputs": [
    {
     "data": {
      "text/html": [
       "<div>\n",
       "<style scoped>\n",
       "    .dataframe tbody tr th:only-of-type {\n",
       "        vertical-align: middle;\n",
       "    }\n",
       "\n",
       "    .dataframe tbody tr th {\n",
       "        vertical-align: top;\n",
       "    }\n",
       "\n",
       "    .dataframe thead th {\n",
       "        text-align: right;\n",
       "    }\n",
       "</style>\n",
       "<table border=\"1\" class=\"dataframe\">\n",
       "  <thead>\n",
       "    <tr style=\"text-align: right;\">\n",
       "      <th></th>\n",
       "      <th>id</th>\n",
       "      <th>time</th>\n",
       "      <th>AA</th>\n",
       "      <th>AB</th>\n",
       "      <th>AC</th>\n",
       "      <th>AD</th>\n",
       "      <th>AE</th>\n",
       "      <th>AF</th>\n",
       "      <th>AG</th>\n",
       "      <th>AH</th>\n",
       "    </tr>\n",
       "  </thead>\n",
       "  <tbody>\n",
       "    <tr>\n",
       "      <th>0</th>\n",
       "      <td>x4425323655333165260</td>\n",
       "      <td>1515049200</td>\n",
       "      <td>2200.697738</td>\n",
       "      <td>-118.842503</td>\n",
       "      <td>-119.133622</td>\n",
       "      <td>0.917032</td>\n",
       "      <td>0.006693</td>\n",
       "      <td>845.738702</td>\n",
       "      <td>1</td>\n",
       "      <td>0.001244</td>\n",
       "    </tr>\n",
       "    <tr>\n",
       "      <th>1</th>\n",
       "      <td>x10230558070004111555</td>\n",
       "      <td>1515060000</td>\n",
       "      <td>3197.704570</td>\n",
       "      <td>-118.695724</td>\n",
       "      <td>-118.742952</td>\n",
       "      <td>0.938248</td>\n",
       "      <td>0.026903</td>\n",
       "      <td>1352.727210</td>\n",
       "      <td>2</td>\n",
       "      <td>0.001942</td>\n",
       "    </tr>\n",
       "    <tr>\n",
       "      <th>2</th>\n",
       "      <td>x18350715752638066598</td>\n",
       "      <td>1515006000</td>\n",
       "      <td>75.897193</td>\n",
       "      <td>-108.357568</td>\n",
       "      <td>-99.983267</td>\n",
       "      <td>0.427436</td>\n",
       "      <td>0.033111</td>\n",
       "      <td>149.165113</td>\n",
       "      <td>417</td>\n",
       "      <td>0.125376</td>\n",
       "    </tr>\n",
       "    <tr>\n",
       "      <th>3</th>\n",
       "      <td>x10230558070004111555</td>\n",
       "      <td>1515150000</td>\n",
       "      <td>2967.506365</td>\n",
       "      <td>-118.861917</td>\n",
       "      <td>-119.088891</td>\n",
       "      <td>0.944479</td>\n",
       "      <td>0.021121</td>\n",
       "      <td>1420.236740</td>\n",
       "      <td>1</td>\n",
       "      <td>0.000963</td>\n",
       "    </tr>\n",
       "    <tr>\n",
       "      <th>4</th>\n",
       "      <td>x16587885833987648653</td>\n",
       "      <td>1515186000</td>\n",
       "      <td>10395.426003</td>\n",
       "      <td>-119.959260</td>\n",
       "      <td>-120.211398</td>\n",
       "      <td>0.943700</td>\n",
       "      <td>0.069466</td>\n",
       "      <td>1943.044295</td>\n",
       "      <td>0</td>\n",
       "      <td>0.000000</td>\n",
       "    </tr>\n",
       "  </tbody>\n",
       "</table>\n",
       "</div>"
      ],
      "text/plain": [
       "                      id        time            AA          AB          AC  \\\n",
       "0   x4425323655333165260  1515049200   2200.697738 -118.842503 -119.133622   \n",
       "1  x10230558070004111555  1515060000   3197.704570 -118.695724 -118.742952   \n",
       "2  x18350715752638066598  1515006000     75.897193 -108.357568  -99.983267   \n",
       "3  x10230558070004111555  1515150000   2967.506365 -118.861917 -119.088891   \n",
       "4  x16587885833987648653  1515186000  10395.426003 -119.959260 -120.211398   \n",
       "\n",
       "         AD        AE           AF   AG        AH  \n",
       "0  0.917032  0.006693   845.738702    1  0.001244  \n",
       "1  0.938248  0.026903  1352.727210    2  0.001942  \n",
       "2  0.427436  0.033111   149.165113  417  0.125376  \n",
       "3  0.944479  0.021121  1420.236740    1  0.000963  \n",
       "4  0.943700  0.069466  1943.044295    0  0.000000  "
      ]
     },
     "execution_count": 12,
     "metadata": {},
     "output_type": "execute_result"
    }
   ],
   "source": [
    "df = pd.read_csv(\".\\\\tests\\\\testSample.csv\")\n",
    "mdtext = insertMdTable(df.iloc[:5,:10], 'table1', mdtext, transpose=False, maxcols=10) \n",
    "df.iloc[:5,:10]"
   ]
  },
  {
   "cell_type": "code",
   "execution_count": 13,
   "metadata": {},
   "outputs": [
    {
     "data": {
      "text/html": [
       "<div>\n",
       "<style scoped>\n",
       "    .dataframe tbody tr th:only-of-type {\n",
       "        vertical-align: middle;\n",
       "    }\n",
       "\n",
       "    .dataframe tbody tr th {\n",
       "        vertical-align: top;\n",
       "    }\n",
       "\n",
       "    .dataframe thead th {\n",
       "        text-align: right;\n",
       "    }\n",
       "</style>\n",
       "<table border=\"1\" class=\"dataframe\">\n",
       "  <thead>\n",
       "    <tr style=\"text-align: right;\">\n",
       "      <th></th>\n",
       "      <th>id</th>\n",
       "      <th>time</th>\n",
       "      <th>AA</th>\n",
       "      <th>AB</th>\n",
       "      <th>AC</th>\n",
       "      <th>AD</th>\n",
       "      <th>AE</th>\n",
       "      <th>AF</th>\n",
       "      <th>AG</th>\n",
       "      <th>AH</th>\n",
       "    </tr>\n",
       "  </thead>\n",
       "  <tbody>\n",
       "    <tr>\n",
       "      <th>0</th>\n",
       "      <td>x4425323655333165260</td>\n",
       "      <td>1515049200</td>\n",
       "      <td>0.447265</td>\n",
       "      <td>0.530765</td>\n",
       "      <td>0.525592</td>\n",
       "      <td>0.491927</td>\n",
       "      <td>0.427231</td>\n",
       "      <td>0.420954</td>\n",
       "      <td>0.500000</td>\n",
       "      <td>0.514701</td>\n",
       "    </tr>\n",
       "    <tr>\n",
       "      <th>1</th>\n",
       "      <td>x10230558070004111555</td>\n",
       "      <td>1515060000</td>\n",
       "      <td>0.478404</td>\n",
       "      <td>0.541758</td>\n",
       "      <td>0.555454</td>\n",
       "      <td>0.528521</td>\n",
       "      <td>0.474284</td>\n",
       "      <td>0.495020</td>\n",
       "      <td>0.531209</td>\n",
       "      <td>0.537597</td>\n",
       "    </tr>\n",
       "    <tr>\n",
       "      <th>2</th>\n",
       "      <td>x18350715752638066598</td>\n",
       "      <td>1515006000</td>\n",
       "      <td>0.382548</td>\n",
       "      <td>0.963771</td>\n",
       "      <td>0.997523</td>\n",
       "      <td>0.031886</td>\n",
       "      <td>0.488868</td>\n",
       "      <td>0.325287</td>\n",
       "      <td>1.000000</td>\n",
       "      <td>1.000000</td>\n",
       "    </tr>\n",
       "    <tr>\n",
       "      <th>3</th>\n",
       "      <td>x10230558070004111555</td>\n",
       "      <td>1515150000</td>\n",
       "      <td>0.471191</td>\n",
       "      <td>0.529309</td>\n",
       "      <td>0.529025</td>\n",
       "      <td>0.539229</td>\n",
       "      <td>0.460737</td>\n",
       "      <td>0.504971</td>\n",
       "      <td>0.500000</td>\n",
       "      <td>0.505480</td>\n",
       "    </tr>\n",
       "    <tr>\n",
       "      <th>4</th>\n",
       "      <td>x16587885833987648653</td>\n",
       "      <td>1515186000</td>\n",
       "      <td>0.693830</td>\n",
       "      <td>0.446921</td>\n",
       "      <td>0.442911</td>\n",
       "      <td>0.537891</td>\n",
       "      <td>0.573860</td>\n",
       "      <td>0.581309</td>\n",
       "      <td>0.468791</td>\n",
       "      <td>0.473809</td>\n",
       "    </tr>\n",
       "  </tbody>\n",
       "</table>\n",
       "</div>"
      ],
      "text/plain": [
       "                      id        time        AA        AB        AC        AD  \\\n",
       "0   x4425323655333165260  1515049200  0.447265  0.530765  0.525592  0.491927   \n",
       "1  x10230558070004111555  1515060000  0.478404  0.541758  0.555454  0.528521   \n",
       "2  x18350715752638066598  1515006000  0.382548  0.963771  0.997523  0.031886   \n",
       "3  x10230558070004111555  1515150000  0.471191  0.529309  0.529025  0.539229   \n",
       "4  x16587885833987648653  1515186000  0.693830  0.446921  0.442911  0.537891   \n",
       "\n",
       "         AE        AF        AG        AH  \n",
       "0  0.427231  0.420954  0.500000  0.514701  \n",
       "1  0.474284  0.495020  0.531209  0.537597  \n",
       "2  0.488868  0.325287  1.000000  1.000000  \n",
       "3  0.460737  0.504971  0.500000  0.505480  \n",
       "4  0.573860  0.581309  0.468791  0.473809  "
      ]
     },
     "execution_count": 13,
     "metadata": {},
     "output_type": "execute_result"
    }
   ],
   "source": [
    "# transform without standardization\n",
    "rs = rbt.robout_scaler(standardization=False, ignore=[\"time\"])\n",
    "dfnorm = rs.fit_transform(df)\n",
    "# dfnorm.head(20).to_csv(\".\\\\tests\\\\nStdTestSample.csv\", index=False)\n",
    "mdtext = insertMdTable(dfnorm.iloc[:5,:10], 'table2', mdtext, transpose=False, maxcols=10) \n",
    "dfnorm.iloc[:5,:10]"
   ]
  },
  {
   "cell_type": "code",
   "execution_count": 14,
   "metadata": {},
   "outputs": [
    {
     "data": {
      "text/html": [
       "<div>\n",
       "<style scoped>\n",
       "    .dataframe tbody tr th:only-of-type {\n",
       "        vertical-align: middle;\n",
       "    }\n",
       "\n",
       "    .dataframe tbody tr th {\n",
       "        vertical-align: top;\n",
       "    }\n",
       "\n",
       "    .dataframe thead th {\n",
       "        text-align: right;\n",
       "    }\n",
       "</style>\n",
       "<table border=\"1\" class=\"dataframe\">\n",
       "  <thead>\n",
       "    <tr style=\"text-align: right;\">\n",
       "      <th></th>\n",
       "      <th>id</th>\n",
       "      <th>time</th>\n",
       "      <th>AA</th>\n",
       "      <th>AB</th>\n",
       "      <th>AC</th>\n",
       "      <th>AD</th>\n",
       "      <th>AE</th>\n",
       "      <th>AF</th>\n",
       "      <th>AG</th>\n",
       "      <th>AH</th>\n",
       "    </tr>\n",
       "  </thead>\n",
       "  <tbody>\n",
       "    <tr>\n",
       "      <th>0</th>\n",
       "      <td>x4425323655333165260</td>\n",
       "      <td>1515049200</td>\n",
       "      <td>-0.713919</td>\n",
       "      <td>-0.043369</td>\n",
       "      <td>-0.093889</td>\n",
       "      <td>0.210433</td>\n",
       "      <td>-0.919474</td>\n",
       "      <td>-0.796689</td>\n",
       "      <td>-0.332058</td>\n",
       "      <td>-0.267370</td>\n",
       "    </tr>\n",
       "    <tr>\n",
       "      <th>1</th>\n",
       "      <td>x10230558070004111555</td>\n",
       "      <td>1515060000</td>\n",
       "      <td>-0.398219</td>\n",
       "      <td>0.037300</td>\n",
       "      <td>0.107336</td>\n",
       "      <td>0.499845</td>\n",
       "      <td>-0.495718</td>\n",
       "      <td>-0.117005</td>\n",
       "      <td>-0.119923</td>\n",
       "      <td>-0.102128</td>\n",
       "    </tr>\n",
       "    <tr>\n",
       "      <th>2</th>\n",
       "      <td>x18350715752638066598</td>\n",
       "      <td>1515006000</td>\n",
       "      <td>-1.370034</td>\n",
       "      <td>3.134124</td>\n",
       "      <td>3.086219</td>\n",
       "      <td>-3.427813</td>\n",
       "      <td>-0.364370</td>\n",
       "      <td>-1.674605</td>\n",
       "      <td>3.066506</td>\n",
       "      <td>3.235078</td>\n",
       "    </tr>\n",
       "    <tr>\n",
       "      <th>3</th>\n",
       "      <td>x10230558070004111555</td>\n",
       "      <td>1515150000</td>\n",
       "      <td>-0.471353</td>\n",
       "      <td>-0.054057</td>\n",
       "      <td>-0.070759</td>\n",
       "      <td>0.584527</td>\n",
       "      <td>-0.617717</td>\n",
       "      <td>-0.025686</td>\n",
       "      <td>-0.332058</td>\n",
       "      <td>-0.333916</td>\n",
       "    </tr>\n",
       "    <tr>\n",
       "      <th>4</th>\n",
       "      <td>x16587885833987648653</td>\n",
       "      <td>1515186000</td>\n",
       "      <td>1.785817</td>\n",
       "      <td>-0.658638</td>\n",
       "      <td>-0.651033</td>\n",
       "      <td>0.573946</td>\n",
       "      <td>0.401057</td>\n",
       "      <td>0.674849</td>\n",
       "      <td>-0.544192</td>\n",
       "      <td>-0.562488</td>\n",
       "    </tr>\n",
       "  </tbody>\n",
       "</table>\n",
       "</div>"
      ],
      "text/plain": [
       "                      id        time        AA        AB        AC        AD  \\\n",
       "0   x4425323655333165260  1515049200 -0.713919 -0.043369 -0.093889  0.210433   \n",
       "1  x10230558070004111555  1515060000 -0.398219  0.037300  0.107336  0.499845   \n",
       "2  x18350715752638066598  1515006000 -1.370034  3.134124  3.086219 -3.427813   \n",
       "3  x10230558070004111555  1515150000 -0.471353 -0.054057 -0.070759  0.584527   \n",
       "4  x16587885833987648653  1515186000  1.785817 -0.658638 -0.651033  0.573946   \n",
       "\n",
       "         AE        AF        AG        AH  \n",
       "0 -0.919474 -0.796689 -0.332058 -0.267370  \n",
       "1 -0.495718 -0.117005 -0.119923 -0.102128  \n",
       "2 -0.364370 -1.674605  3.066506  3.235078  \n",
       "3 -0.617717 -0.025686 -0.332058 -0.333916  \n",
       "4  0.401057  0.674849 -0.544192 -0.562488  "
      ]
     },
     "execution_count": 14,
     "metadata": {},
     "output_type": "execute_result"
    }
   ],
   "source": [
    "# transform with standardization\n",
    "rs = rbt.robout_scaler(standardization=True, ignore=[\"time\"])\n",
    "dfnorm = rs.fit_transform(df)\n",
    "# dfnorm.head(20).to_csv(\".\\\\tests\\\\stdTestSample.csv\", index=False)\n",
    "mdtext = insertMdTable(dfnorm.iloc[:5,:10], 'table3', mdtext, transpose=False, maxcols=10) \n",
    "dfnorm.iloc[:5,:10]"
   ]
  },
  {
   "cell_type": "code",
   "execution_count": 15,
   "metadata": {},
   "outputs": [
    {
     "data": {
      "text/html": [
       "<div>\n",
       "<style scoped>\n",
       "    .dataframe tbody tr th:only-of-type {\n",
       "        vertical-align: middle;\n",
       "    }\n",
       "\n",
       "    .dataframe tbody tr th {\n",
       "        vertical-align: top;\n",
       "    }\n",
       "\n",
       "    .dataframe thead th {\n",
       "        text-align: right;\n",
       "    }\n",
       "</style>\n",
       "<table border=\"1\" class=\"dataframe\">\n",
       "  <thead>\n",
       "    <tr style=\"text-align: right;\">\n",
       "      <th></th>\n",
       "      <th>id</th>\n",
       "      <th>time</th>\n",
       "      <th>AA</th>\n",
       "      <th>AB</th>\n",
       "      <th>AC</th>\n",
       "      <th>AD</th>\n",
       "      <th>AE</th>\n",
       "      <th>AF</th>\n",
       "      <th>AG</th>\n",
       "      <th>AH</th>\n",
       "    </tr>\n",
       "  </thead>\n",
       "  <tbody>\n",
       "    <tr>\n",
       "      <th>0</th>\n",
       "      <td>x4425323655333165260</td>\n",
       "      <td>1515049200</td>\n",
       "      <td>2200.697738</td>\n",
       "      <td>-118.842503</td>\n",
       "      <td>-119.133622</td>\n",
       "      <td>0.917032</td>\n",
       "      <td>0.006693</td>\n",
       "      <td>845.738702</td>\n",
       "      <td>1</td>\n",
       "      <td>1.243781e-03</td>\n",
       "    </tr>\n",
       "    <tr>\n",
       "      <th>1</th>\n",
       "      <td>x10230558070004111555</td>\n",
       "      <td>1515060000</td>\n",
       "      <td>3197.704570</td>\n",
       "      <td>-118.695724</td>\n",
       "      <td>-118.742952</td>\n",
       "      <td>0.938248</td>\n",
       "      <td>0.026903</td>\n",
       "      <td>1352.727210</td>\n",
       "      <td>2</td>\n",
       "      <td>1.941748e-03</td>\n",
       "    </tr>\n",
       "    <tr>\n",
       "      <th>2</th>\n",
       "      <td>x18350715752638066598</td>\n",
       "      <td>1515006000</td>\n",
       "      <td>75.897193</td>\n",
       "      <td>-108.357568</td>\n",
       "      <td>-99.983267</td>\n",
       "      <td>0.427436</td>\n",
       "      <td>0.033111</td>\n",
       "      <td>149.165113</td>\n",
       "      <td>92</td>\n",
       "      <td>1.253758e-01</td>\n",
       "    </tr>\n",
       "    <tr>\n",
       "      <th>3</th>\n",
       "      <td>x10230558070004111555</td>\n",
       "      <td>1515150000</td>\n",
       "      <td>2967.506365</td>\n",
       "      <td>-118.861917</td>\n",
       "      <td>-119.088891</td>\n",
       "      <td>0.944479</td>\n",
       "      <td>0.021121</td>\n",
       "      <td>1420.236740</td>\n",
       "      <td>1</td>\n",
       "      <td>9.633911e-04</td>\n",
       "    </tr>\n",
       "    <tr>\n",
       "      <th>4</th>\n",
       "      <td>x16587885833987648653</td>\n",
       "      <td>1515186000</td>\n",
       "      <td>10395.426003</td>\n",
       "      <td>-119.959260</td>\n",
       "      <td>-120.211398</td>\n",
       "      <td>0.943700</td>\n",
       "      <td>0.069466</td>\n",
       "      <td>1943.044295</td>\n",
       "      <td>0</td>\n",
       "      <td>-3.252607e-19</td>\n",
       "    </tr>\n",
       "  </tbody>\n",
       "</table>\n",
       "</div>"
      ],
      "text/plain": [
       "                      id        time            AA          AB          AC  \\\n",
       "0   x4425323655333165260  1515049200   2200.697738 -118.842503 -119.133622   \n",
       "1  x10230558070004111555  1515060000   3197.704570 -118.695724 -118.742952   \n",
       "2  x18350715752638066598  1515006000     75.897193 -108.357568  -99.983267   \n",
       "3  x10230558070004111555  1515150000   2967.506365 -118.861917 -119.088891   \n",
       "4  x16587885833987648653  1515186000  10395.426003 -119.959260 -120.211398   \n",
       "\n",
       "         AD        AE           AF  AG            AH  \n",
       "0  0.917032  0.006693   845.738702   1  1.243781e-03  \n",
       "1  0.938248  0.026903  1352.727210   2  1.941748e-03  \n",
       "2  0.427436  0.033111   149.165113  92  1.253758e-01  \n",
       "3  0.944479  0.021121  1420.236740   1  9.633911e-04  \n",
       "4  0.943700  0.069466  1943.044295   0 -3.252607e-19  "
      ]
     },
     "execution_count": 15,
     "metadata": {},
     "output_type": "execute_result"
    }
   ],
   "source": [
    "# inverse transform\n",
    "rs = rbt.robout_scaler(standardization=True, ignore=[\"time\"])\n",
    "dfnorm = rs.fit_transform(df)\n",
    "dfrec = rs.inverse_transform(dfnorm)\n",
    "# dfrec.head(20).to_csv(\".\\\\tests\\\\recTestSample.csv\", index=False)\n",
    "mdtext = insertMdTable(dfrec.iloc[:5,:10], 'table4', mdtext, transpose=False, maxcols=10) \n",
    "dfrec.iloc[:5,:10]"
   ]
  },
  {
   "cell_type": "markdown",
   "metadata": {},
   "source": [
    "# Save figures for documentation"
   ]
  },
  {
   "cell_type": "code",
   "execution_count": 16,
   "metadata": {},
   "outputs": [
    {
     "data": {
      "image/png": "[encoded data removed]",
      "text/plain": [
       "<Figure size 1440x360 with 1 Axes>"
      ]
     },
     "metadata": {
      "needs_background": "light"
     },
     "output_type": "display_data"
    }
   ],
   "source": [
    "f, ax = plt.subplots(figsize=(20, 5))\n",
    "sns.violinplot(data=df.iloc[:,2:10])\n",
    "f.savefig(\".\\\\resources\\\\fig1.png\")"
   ]
  },
  {
   "cell_type": "code",
   "execution_count": 17,
   "metadata": {},
   "outputs": [
    {
     "data": {
      "image/png": "[encoded data removed]",
      "text/plain": [
       "<Figure size 1440x360 with 1 Axes>"
      ]
     },
     "metadata": {
      "needs_background": "light"
     },
     "output_type": "display_data"
    }
   ],
   "source": [
    "f, ax = plt.subplots(figsize=(20, 5))\n",
    "sns.violinplot(data=dfnorm.iloc[:,2:10])\n",
    "f.savefig(\".\\\\resources\\\\fig2.png\")"
   ]
  },
  {
   "cell_type": "code",
   "execution_count": 18,
   "metadata": {},
   "outputs": [
    {
     "data": {
      "image/png": "[encoded data removed]",
      "text/plain": [
       "<Figure size 1440x360 with 1 Axes>"
      ]
     },
     "metadata": {
      "needs_background": "light"
     },
     "output_type": "display_data"
    }
   ],
   "source": [
    "dfnorm = rbt.robout_scaler(standardization=True, ignore=[\"time\"]).fit_transform(df)\n",
    "f, ax = plt.subplots(figsize=(20, 5))\n",
    "sns.violinplot(data=dfnorm.iloc[:,2:10])\n",
    "f.savefig(\".\\\\resources\\\\fig3.png\")"
   ]
  },
  {
   "cell_type": "markdown",
   "metadata": {},
   "source": [
    "# Insert tables in the README.md"
   ]
  },
  {
   "cell_type": "code",
   "execution_count": 19,
   "metadata": {},
   "outputs": [],
   "source": [
    "#close the input file\n",
    "fin.close()\n",
    "#open the input file in write mode\n",
    "fin = open(\"README.md\", \"wt\")\n",
    "#overrite the input file with the resulting data\n",
    "fin.write(mdtext)\n",
    "#close the file\n",
    "fin.close()"
   ]
  },
  {
   "cell_type": "markdown",
   "metadata": {},
   "source": [
    "# Run unit tests"
   ]
  },
  {
   "cell_type": "code",
   "execution_count": 10,
   "metadata": {},
   "outputs": [
    {
     "name": "stdout",
     "output_type": "stream",
     "text": [
      "============================= test session starts =============================\n",
      "platform win32 -- Python 3.8.5, pytest-6.0.1, py-1.9.0, pluggy-0.13.1\n",
      "rootdir: C:\\scicolab\\robout\n",
      "collected 7 items\n",
      "\n",
      "tests\\test_robout.py .......                                             [100%]\n",
      "\n",
      "============================== 7 passed in 6.70s ==============================\n"
     ]
    }
   ],
   "source": [
    "!pytest"
   ]
  },
  {
   "cell_type": "code",
   "execution_count": null,
   "metadata": {},
   "outputs": [],
   "source": []
  },
  {
   "cell_type": "code",
   "execution_count": null,
   "metadata": {},
   "outputs": [],
   "source": []
  },
  {
   "cell_type": "code",
   "execution_count": null,
   "metadata": {},
   "outputs": [],
   "source": []
  }
 ],
 "metadata": {
  "kernelspec": {
   "display_name": "Python 3",
   "language": "python",
   "name": "python3"
  },
  "language_info": {
   "codemirror_mode": {
    "name": "ipython",
    "version": 3
   },
   "file_extension": ".py",
   "mimetype": "text/x-python",
   "name": "python",
   "nbconvert_exporter": "python",
   "pygments_lexer": "ipython3",
   "version": "3.8.5"
  }
 },
 "nbformat": 4,
 "nbformat_minor": 4
}
